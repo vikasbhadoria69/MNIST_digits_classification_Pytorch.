{
 "cells": [
  {
   "cell_type": "code",
   "execution_count": 0,
   "metadata": {
    "colab": {},
    "colab_type": "code",
    "id": "qd2g2ezXWAZ1"
   },
   "outputs": [],
   "source": [
    "#!pip install torchvision"
   ]
  },
  {
   "cell_type": "code",
   "execution_count": 0,
   "metadata": {
    "colab": {},
    "colab_type": "code",
    "id": "42Anu-2kWL4L"
   },
   "outputs": [],
   "source": [
    "import torch\n",
    "import matplotlib.pyplot as plt\n",
    "import numpy as np\n",
    "import torch.nn.functional as F\n",
    "from torch import nn\n",
    "from torchvision import datasets, transforms ## Hence torchvision is basically used as it has many datasets and also transform properities\n",
    "# that can be applied on these datasets"
   ]
  },
  {
   "cell_type": "markdown",
   "metadata": {
    "colab_type": "text",
    "id": "A5ATntRWWpXy"
   },
   "source": [
    "Now we create a function to apply transformations"
   ]
  },
  {
   "cell_type": "code",
   "execution_count": 0,
   "metadata": {
    "colab": {},
    "colab_type": "code",
    "id": "m8NlnEtyWmMh"
   },
   "outputs": [],
   "source": [
    "transform = transforms.Compose([ transforms.Resize((28,28)), # Compose is used to chain together many transforms at same time.\n",
    "                               transforms.ToTensor(), # As the images are in np.array format we need to convert them to tensors so to work with torch.\n",
    "                               transforms.Normalize((0.5, ),(0.5,)) # this is done to ensure a single channel of (1, 28, 28), rather than (3, 28, 28). \n",
    "                               ])\n",
    "training_dataset = datasets.MNIST(root='./data_2', train=True, download=False, transform=transform) #to save our training data in this dir and apply transform to it already.\n",
    "validation_dataset = datasets.MNIST(root='./data_2', train=False, download=False, transform=transform)  #to save our validation data in this dir and apply transform to it already.\n",
    " \n",
    "training_loader = torch.utils.data.DataLoader(training_dataset, batch_size=100, shuffle=True)   #to define our training batches\n",
    "validation_loader = torch.utils.data.DataLoader(validation_dataset, batch_size = 100, shuffle=False)  #to define our validation batches"
   ]
  },
  {
   "cell_type": "markdown",
   "metadata": {
    "colab_type": "text",
    "id": "5Q5zxPw5ZFqO"
   },
   "source": [
    "Convert to numpy array for matplotlib"
   ]
  },
  {
   "cell_type": "code",
   "execution_count": 0,
   "metadata": {
    "colab": {},
    "colab_type": "code",
    "id": "j-IimszAYMzI"
   },
   "outputs": [],
   "source": [
    "def im_convert(tensor):\n",
    "  image = tensor.clone().detach().numpy() #In order to call numpy on a tensor we first use detach() func.\n",
    "  image = image.transpose(1, 2, 0) # from (1,28,28) to (28,28,1)\n",
    "  image = image * np.array((0.5, 0.5, 0.5)) + np.array((0.5, 0.5, 0.5))\n",
    "  image = image.clip(0, 1)\n",
    "  return image"
   ]
  },
  {
   "cell_type": "markdown",
   "metadata": {
    "colab_type": "text",
    "id": "hjXUxOSYZpTS"
   },
   "source": [
    "Plotting Image Data"
   ]
  },
  {
   "cell_type": "code",
   "execution_count": 5,
   "metadata": {
    "colab": {
     "base_uri": "https://localhost:8080/",
     "height": 219
    },
    "colab_type": "code",
    "id": "rcFdgPaHZmst",
    "outputId": "5fb45b41-1a6c-4f00-bcce-d7c37b2f4c94"
   },
   "outputs": [
    {
     "data": {
      "image/png": "[encoded data removed]",
      "text/plain": [
       "<Figure size 1800x288 with 20 Axes>"
      ]
     },
     "metadata": {
      "tags": []
     },
     "output_type": "display_data"
    }
   ],
   "source": [
    "dataiter = iter(training_loader) #convert our data to iterable format as per batches\n",
    "images, labels = dataiter.next() #from first batch to next after every iteration\n",
    "fig = plt.figure(figsize=(25, 4))\n",
    " \n",
    "for idx in np.arange(20):\n",
    "  ax = fig.add_subplot(2, 10, idx+1, xticks=[], yticks=[]) \n",
    "  plt.imshow(im_convert(images[idx]))\n",
    "  ax.set_title([labels[idx].item()])"
   ]
  },
  {
   "cell_type": "markdown",
   "metadata": {
    "colab_type": "text",
    "id": "PvqOienOKuUS"
   },
   "source": [
    "Build our Model"
   ]
  },
  {
   "cell_type": "code",
   "execution_count": 0,
   "metadata": {
    "colab": {},
    "colab_type": "code",
    "id": "p_zHA5jlaK1O"
   },
   "outputs": [],
   "source": [
    "class Classifier(nn.Module):\n",
    "  def __init__(self,D_inp,H1,H2,D_out):\n",
    "    super().__init__()\n",
    "    self.linear1 = nn.Linear(D_inp,H1)  # feed from inp to 1sr hidden layer and so on... \n",
    "    self.linear2 = nn.Linear(H1,H2)\n",
    "    self.linear3 = nn.Linear(H2,D_out)\n",
    "  def forward(self,x):\n",
    "    x = F.relu(self.linear1(x))\n",
    "    x = F.relu(self.linear2(x))\n",
    "    x = self.linear3(x)  # in the output layer we do not put an activation funct as we need the raw output which the loss func deals with. \n",
    "    return x"
   ]
  },
  {
   "cell_type": "markdown",
   "metadata": {
    "colab_type": "text",
    "id": "pA4dlAqOLyzJ"
   },
   "source": [
    "Declaring classifier"
   ]
  },
  {
   "cell_type": "code",
   "execution_count": 7,
   "metadata": {
    "colab": {
     "base_uri": "https://localhost:8080/",
     "height": 108
    },
    "colab_type": "code",
    "id": "rNZkdcu5Lxhz",
    "outputId": "2a5cedac-7d2f-43bd-9c59-83a485274262"
   },
   "outputs": [
    {
     "data": {
      "text/plain": [
       "Classifier(\n",
       "  (linear1): Linear(in_features=784, out_features=125, bias=True)\n",
       "  (linear2): Linear(in_features=125, out_features=65, bias=True)\n",
       "  (linear3): Linear(in_features=65, out_features=10, bias=True)\n",
       ")"
      ]
     },
     "execution_count": 7,
     "metadata": {
      "tags": []
     },
     "output_type": "execute_result"
    }
   ],
   "source": [
    "model = Classifier(784, 125, 65, 10)\n",
    "model"
   ]
  },
  {
   "cell_type": "markdown",
   "metadata": {
    "colab_type": "text",
    "id": "j8RTDxg-MGJq"
   },
   "source": [
    "Loss and optimiser"
   ]
  },
  {
   "cell_type": "code",
   "execution_count": 0,
   "metadata": {
    "colab": {},
    "colab_type": "code",
    "id": "DGo9Mjd-L80w"
   },
   "outputs": [],
   "source": [
    "Loss = nn.CrossEntropyLoss()   # this is for multi class classification. same as 'categorical_crossentropy' in keras and Tf\n",
    "optimizer = torch.optim.Adam(model.parameters(), lr = 0.0001) # learning rate for such model is very imp so choose it carefully"
   ]
  },
  {
   "cell_type": "markdown",
   "metadata": {
    "colab_type": "text",
    "id": "pFd7MyTpM7hZ"
   },
   "source": [
    "Traning Process"
   ]
  },
  {
   "cell_type": "code",
   "execution_count": 9,
   "metadata": {
    "colab": {
     "base_uri": "https://localhost:8080/",
     "height": 563
    },
    "colab_type": "code",
    "id": "NBW4OIlfM4xH",
    "outputId": "014daf09-fa8f-402a-c70d-136ba11c9003"
   },
   "outputs": [
    {
     "name": "stdout",
     "output_type": "stream",
     "text": [
      "epoch : 1\n",
      "training loss: 0.9417, acc 76.7117 \n",
      "validation loss: 0.4369, validation acc 88.4900 \n",
      "epoch : 2\n",
      "training loss: 0.3898, acc 88.9350 \n",
      "validation loss: 0.3374, validation acc 90.2500 \n",
      "epoch : 3\n",
      "training loss: 0.3268, acc 90.4567 \n",
      "validation loss: 0.2963, validation acc 91.6000 \n",
      "epoch : 4\n",
      "training loss: 0.2945, acc 91.3067 \n",
      "validation loss: 0.2705, validation acc 92.1900 \n",
      "epoch : 5\n",
      "training loss: 0.2704, acc 92.0917 \n",
      "validation loss: 0.2508, validation acc 92.5400 \n",
      "epoch : 6\n",
      "training loss: 0.2493, acc 92.6667 \n",
      "validation loss: 0.2345, validation acc 93.1900 \n",
      "epoch : 7\n",
      "training loss: 0.2309, acc 93.2500 \n",
      "validation loss: 0.2184, validation acc 93.6800 \n",
      "epoch : 8\n",
      "training loss: 0.2129, acc 93.7717 \n",
      "validation loss: 0.2040, validation acc 94.0400 \n",
      "epoch : 9\n",
      "training loss: 0.1975, acc 94.2067 \n",
      "validation loss: 0.1904, validation acc 94.4800 \n",
      "epoch : 10\n",
      "training loss: 0.1840, acc 94.6267 \n",
      "validation loss: 0.1773, validation acc 94.7800 \n"
     ]
    }
   ],
   "source": [
    "epochs = 10 \n",
    "running_loss_history = []  # to plot the loss later on, we will append loss per epoch in this.\n",
    "running_corrects_history = [] # to plot the acc later on, we will append acc per epoch in this.\n",
    "val_running_loss_history = [] ## to plot the val_loss later on, we will append val_loss per epoch in this\n",
    "val_running_corrects_history = [] # to plot the val_acc later on, we will append val_acc per epoch in this\n",
    " \n",
    "for e in range(epochs):\n",
    "  \n",
    "  running_loss = 0.0    # We first initialize it to 0 \n",
    "  running_corrects = 0.0\n",
    "  val_running_loss = 0.0\n",
    "  val_running_corrects = 0.0\n",
    "  \n",
    "  for inputs, labels in training_loader:  # As our train_loader is batch size of 100 and had input images and corresponding labels\n",
    "    inputs = inputs.view(inputs.shape[0], -1)  # reshaping our input of (1,28,28) to 2D tenor of (1,784) as we have 784 i/p nodes in our model\n",
    "    outputs = model(inputs)   # giving input to our model to get corresponding output\n",
    "    loss = Loss(outputs, labels) # comparing out model's output to original labels\n",
    "    \n",
    "    optimizer.zero_grad() ##sets the initial gradient to zero\n",
    "    loss.backward()  ## The whole calculated loss is then back propogated to the model\n",
    "    optimizer.step()  ## Then the weights are updated by doing their derivative w.r.t the Loss\n",
    "    \n",
    "    _, preds = torch.max(outputs, 1)  # Then we select the max value of raw output and consider it as our prediction. We select it from 10 o/ps\n",
    "    running_loss += loss.item()       # total loss of 1 epoch\n",
    "    running_corrects += torch.sum(preds == labels.data) #total accuracy of 1 epoch\n",
    " \n",
    "  else:# This we done to set no gradient as we do not need it for val as our model is already trained\n",
    "    with torch.no_grad():\n",
    "      for val_inputs, val_labels in validation_loader:\n",
    "         val_inputs = val_inputs.view(val_inputs.shape[0], -1)\n",
    "         val_outputs = model(val_inputs)\n",
    "         val_loss = Loss(val_outputs, val_labels)\n",
    "        \n",
    "         _, val_preds = torch.max(val_outputs, 1)\n",
    "         val_running_loss += val_loss.item()\n",
    "         val_running_corrects += torch.sum(val_preds == val_labels.data)\n",
    "       \n",
    "         \n",
    "      \n",
    "    epoch_loss = running_loss/len(training_loader)\n",
    "    epoch_acc = running_corrects.float()/ len(training_loader)\n",
    "    running_loss_history.append(epoch_loss) # for outputs\n",
    "    running_corrects_history.append(epoch_acc)\n",
    "    \n",
    "    val_epoch_loss = val_running_loss/len(validation_loader)\n",
    "    val_epoch_acc = val_running_corrects.float()/ len(validation_loader)\n",
    "    val_running_loss_history.append(val_epoch_loss)\n",
    "    val_running_corrects_history.append(val_epoch_acc)\n",
    "    print('epoch :', (e+1))\n",
    "    print('training loss: {:.4f}, acc {:.4f} '.format(epoch_loss, epoch_acc.item()))\n",
    "    print('validation loss: {:.4f}, validation acc {:.4f} '.format(val_epoch_loss, val_epoch_acc.item()))"
   ]
  },
  {
   "cell_type": "code",
   "execution_count": 10,
   "metadata": {
    "colab": {
     "base_uri": "https://localhost:8080/",
     "height": 283
    },
    "colab_type": "code",
    "id": "Um2SQbzKPtt5",
    "outputId": "4687b9bc-7f80-42f3-f7b6-56433ef41d28"
   },
   "outputs": [
    {
     "data": {
      "text/plain": [
       "<matplotlib.legend.Legend at 0x7f84b2c72a20>"
      ]
     },
     "execution_count": 10,
     "metadata": {
      "tags": []
     },
     "output_type": "execute_result"
    },
    {
     "data": {
      "image/png": "[encoded data removed]",
      "text/plain": [
       "<Figure size 432x288 with 1 Axes>"
      ]
     },
     "metadata": {
      "needs_background": "light",
      "tags": []
     },
     "output_type": "display_data"
    }
   ],
   "source": [
    "plt.plot(running_loss_history,label=\"Loss_train\") # our loss is getting low. This is traning loss\n",
    "plt.plot(val_running_loss_history, label='validation loss')\n",
    "plt.legend()"
   ]
  },
  {
   "cell_type": "code",
   "execution_count": 11,
   "metadata": {
    "colab": {
     "base_uri": "https://localhost:8080/",
     "height": 283
    },
    "colab_type": "code",
    "id": "r762RjaVQGg-",
    "outputId": "9265efb1-84f3-4fce-bbbb-acebd1d857b4"
   },
   "outputs": [
    {
     "data": {
      "text/plain": [
       "<matplotlib.legend.Legend at 0x7f84b2e00ef0>"
      ]
     },
     "execution_count": 11,
     "metadata": {
      "tags": []
     },
     "output_type": "execute_result"
    },
    {
     "data": {
      "image/png": "[encoded data removed]",
      "text/plain": [
       "<Figure size 432x288 with 1 Axes>"
      ]
     },
     "metadata": {
      "needs_background": "light",
      "tags": []
     },
     "output_type": "display_data"
    }
   ],
   "source": [
    "plt.plot(running_corrects_history,label=\"acc_train\") #Our acc is getting high. This is training accuracy.\n",
    "plt.plot(val_running_corrects_history, label='validation accuracy')\n",
    "plt.legend()"
   ]
  },
  {
   "cell_type": "code",
   "execution_count": 12,
   "metadata": {
    "colab": {
     "base_uri": "https://localhost:8080/",
     "height": 54
    },
    "colab_type": "code",
    "id": "8W0pR3YKRLeZ",
    "outputId": "889e3dd0-45be-4336-b2f1-d7e5d3633fd4"
   },
   "outputs": [
    {
     "name": "stdout",
     "output_type": "stream",
     "text": [
      "Requirement already satisfied: pillow==4.0 in /usr/local/lib/python3.6/dist-packages (4.0.0)\n",
      "Requirement already satisfied: olefile in /usr/local/lib/python3.6/dist-packages (from pillow==4.0) (0.46)\n"
     ]
    }
   ],
   "source": [
    "!pip install pillow==4.0"
   ]
  },
  {
   "cell_type": "code",
   "execution_count": 0,
   "metadata": {
    "colab": {},
    "colab_type": "code",
    "id": "qZUEQ9AJdb2S"
   },
   "outputs": [],
   "source": [
    "import PIL.ImageOps"
   ]
  },
  {
   "cell_type": "code",
   "execution_count": 6,
   "metadata": {
    "colab": {
     "base_uri": "https://localhost:8080/",
     "height": 287
    },
    "colab_type": "code",
    "id": "UotizYbQdtQb",
    "outputId": "9f5b10a1-751f-4868-b0a0-50751a0dd83c"
   },
   "outputs": [
    {
     "data": {
      "text/plain": [
       "<matplotlib.image.AxesImage at 0x7f753c6c32e8>"
      ]
     },
     "execution_count": 6,
     "metadata": {
      "tags": []
     },
     "output_type": "execute_result"
    },
    {
     "data": {
      "image/png": "[encoded data removed]",
      "text/plain": [
       "<Figure size 432x288 with 1 Axes>"
      ]
     },
     "metadata": {
      "needs_background": "light",
      "tags": []
     },
     "output_type": "display_data"
    }
   ],
   "source": [
    "import requests\n",
    "from PIL import Image\n",
    " \n",
    "url = 'https://images.homedepot-static.com/productImages/007164ea-d47e-4f66-8d8c-fd9f621984a2/svn/architectural-mailboxes-house-letters-numbers-3585b-5-64_1000.jpg'\n",
    "response = requests.get(url, stream = True)\n",
    "img = Image.open(response.raw)\n",
    "plt.imshow(img)"
   ]
  },
  {
   "cell_type": "markdown",
   "metadata": {
    "colab_type": "text",
    "id": "271Z5IyUe_uR"
   },
   "source": [
    "Pre-processing Image"
   ]
  },
  {
   "cell_type": "code",
   "execution_count": 16,
   "metadata": {
    "colab": {
     "base_uri": "https://localhost:8080/",
     "height": 283
    },
    "colab_type": "code",
    "id": "i5ogIoogd134",
    "outputId": "0b78a06b-3605-4eaa-fe72-e980f909fdad"
   },
   "outputs": [
    {
     "data": {
      "text/plain": [
       "<matplotlib.image.AxesImage at 0x7f849f789898>"
      ]
     },
     "execution_count": 16,
     "metadata": {
      "tags": []
     },
     "output_type": "execute_result"
    },
    {
     "data": {
      "image/png": "[encoded data removed]",
      "text/plain": [
       "<Figure size 432x288 with 1 Axes>"
      ]
     },
     "metadata": {
      "needs_background": "light",
      "tags": []
     },
     "output_type": "display_data"
    }
   ],
   "source": [
    "img = PIL.ImageOps.invert(img) # we use Image operations from PIL to invert(i.e. make white black and vice versa)\n",
    "img = img.convert('1') # we convert from RGB to Gray\n",
    "img = transform(img)   # Apply the transform funct we defined earlier to make our downloaded img same as what we trained on\n",
    "plt.imshow(im_convert(img))"
   ]
  },
  {
   "cell_type": "markdown",
   "metadata": {
    "colab_type": "text",
    "id": "qMbpw4OHf9k9"
   },
   "source": [
    "Predictions"
   ]
  },
  {
   "cell_type": "code",
   "execution_count": 17,
   "metadata": {
    "colab": {
     "base_uri": "https://localhost:8080/",
     "height": 35
    },
    "colab_type": "code",
    "id": "d56_hkqiftvi",
    "outputId": "98386d1d-e19a-4687-d634-f9a2068b9aff"
   },
   "outputs": [
    {
     "name": "stdout",
     "output_type": "stream",
     "text": [
      "5\n"
     ]
    }
   ],
   "source": [
    "img = img.view(img.shape[0], -1) #reshaping our image\n",
    "output = model(img)  # input this image in our already trained model\n",
    "_, pred = torch.max(output, 1)\n",
    "print(pred.item())"
   ]
  },
  {
   "cell_type": "markdown",
   "metadata": {
    "colab_type": "text",
    "id": "bjGC0sLHgNCc"
   },
   "source": [
    "Validitation Predictions"
   ]
  },
  {
   "cell_type": "code",
   "execution_count": 18,
   "metadata": {
    "colab": {
     "base_uri": "https://localhost:8080/",
     "height": 219
    },
    "colab_type": "code",
    "id": "Wmko03dNgJM9",
    "outputId": "a8302891-415b-440d-a9c6-40fff163babb"
   },
   "outputs": [
    {
     "data": {
      "image/png": "[encoded data removed]",
      "text/plain": [
       "<Figure size 1800x288 with 20 Axes>"
      ]
     },
     "metadata": {
      "tags": []
     },
     "output_type": "display_data"
    }
   ],
   "source": [
    "dataiter = iter(validation_loader) # we now use our validitation images rather to test.\n",
    "images, labels = dataiter.next()\n",
    "images_ = images.view(images.shape[0], -1)\n",
    "output = model(images_)\n",
    "_, preds = torch.max(output, 1)\n",
    " \n",
    "fig = plt.figure(figsize=(25, 4))\n",
    " \n",
    "for idx in np.arange(20):\n",
    "  ax = fig.add_subplot(2, 10, idx+1, xticks=[], yticks=[])\n",
    "  plt.imshow(im_convert(images[idx]))\n",
    "  ax.set_title(\"{} ({})\".format(str(preds[idx].item()), str(labels[idx].item())), color=(\"green\" if preds[idx]==labels[idx] else \"red\"))"
   ]
  },
  {
   "cell_type": "code",
   "execution_count": 0,
   "metadata": {
    "colab": {},
    "colab_type": "code",
    "id": "Xw7dzJP6geAV"
   },
   "outputs": [],
   "source": []
  },
  {
   "cell_type": "markdown",
   "metadata": {
    "colab_type": "text",
    "id": "r1fqAg53gj_n"
   },
   "source": [
    "Hence we have sucessfully trained our model "
   ]
  },
  {
   "cell_type": "code",
   "execution_count": 0,
   "metadata": {
    "colab": {},
    "colab_type": "code",
    "id": "rknvax85gums"
   },
   "outputs": [],
   "source": []
  }
 ],
 "metadata": {
  "accelerator": "GPU",
  "colab": {
   "collapsed_sections": [],
   "name": "MNIST_PyTorch_DNN.ipynb",
   "provenance": []
  },
  "kernelspec": {
   "display_name": "Python 3",
   "language": "python",
   "name": "python3"
  },
  "language_info": {
   "codemirror_mode": {
    "name": "ipython",
    "version": 3
   },
   "file_extension": ".py",
   "mimetype": "text/x-python",
   "name": "python",
   "nbconvert_exporter": "python",
   "pygments_lexer": "ipython3",
   "version": "3.7.3"
  }
 },
 "nbformat": 4,
 "nbformat_minor": 1
}
